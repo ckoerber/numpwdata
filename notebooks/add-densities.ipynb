{
 "cells": [
  {
   "cell_type": "code",
   "execution_count": null,
   "id": "artificial-nomination",
   "metadata": {},
   "outputs": [],
   "source": [
    "import os\n",
    "import re\n",
    "from tqdm import tqdm\n",
    "from socket import gethostname\n",
    "\n",
    "import numpy as np\n",
    "import pandas as pd\n",
    "from scipy import constants\n",
    "\n",
    "os.environ[\"DJANGO_ALLOW_ASYNC_UNSAFE\"] = \"true\""
   ]
  },
  {
   "cell_type": "code",
   "execution_count": null,
   "id": "reduced-climate",
   "metadata": {},
   "outputs": [],
   "source": [
    "HBARC = constants.physical_constants[\"natural unit of action in eV s\"][0] * constants.c * 1.e09 # in MeV fm"
   ]
  },
  {
   "cell_type": "code",
   "execution_count": null,
   "id": "printable-group",
   "metadata": {},
   "outputs": [],
   "source": [
    "from numpwdata.densities.models import Density2N, Density1N\n",
    "from numpwdata.densities.models import Chiral as ChiralInteraction\n",
    "from numpwdata.files.models import H5File, DatFile\n",
    "from numpwd.densities import Density, read_h5, read_1N_density"
   ]
  },
  {
   "cell_type": "code",
   "execution_count": null,
   "id": "frequent-symphony",
   "metadata": {},
   "outputs": [],
   "source": [
    "from espressodb.management.utilities.version import get_db_info\n",
    "HOSTNAME = gethostname().split(\".\")[-1]\n",
    "print(HOSTNAME)\n",
    "print(os.environ[\"NUMPWDATA_CONFIG_DIR\"])\n",
    "db_name, db_user = get_db_info()\n",
    "print(db_name, db_user)"
   ]
  },
  {
   "cell_type": "code",
   "execution_count": null,
   "id": "studied-breed",
   "metadata": {},
   "outputs": [],
   "source": [
    "DENSDIR = os.path.join(os.getcwd(), \"densities-new\")\n",
    "DENSITIES = os.listdir(DENSDIR)\n",
    "\n",
    "H5_DENSITIES = [d for d in DENSITIES if d.endswith(\".h5\")]\n",
    "DAT_DENSITIES = [d for d in DENSITIES if d.endswith(\".dat\")]"
   ]
  },
  {
   "cell_type": "code",
   "execution_count": null,
   "id": "comparative-generator",
   "metadata": {},
   "outputs": [],
   "source": [
    "PATTERNS = (\n",
    "    r\"compton-dens-(?P<nuc>[0-9A-z]+)\",\n",
    "    r\"\\-(?P<potential>[a-z0-9\\+]+)\",\n",
    "    r\"\\-(?P<order>[a-z0-9\\+]+)\",\n",
    "    r\"\\-cut=(?P<cut>[0-9]+)\",\n",
    "    r\"\\-(?P<empot>[a-zA-Z]+)\",\n",
    "    r\"\\-(?P<cmpi>(?:[a-z0-9]+))\",\n",
    "    r\"(\\-(?P<combine>combine))?\",\n",
    "    r\"(\\-Lam=(?P<Lam>(?:[\\.0-9]+)))?\",\n",
    "    r\"(\\-c1=(?P<c1>(?:[\\-\\.0-9]+)))?\",\n",
    "    r\"(\\-c3=(?P<c3>(?:[\\-\\.0-9]+)))?\",\n",
    "    r\"(\\-c4=(?P<c4>(?:[\\-\\.0-9]+)))?\",\n",
    "    r\"(\\-cd=(?P<cd>(?:[\\-\\.0-9]+)))?\",\n",
    "    r\"(\\-ce=(?P<ce>(?:[\\-\\.0-9]+)))?\",\n",
    "    r\"(\\-cE1=(?P<cE1>(?:[\\-\\.0-9]+)))?\",\n",
    "    r\"(\\-Lambdanumeric=(?P<lambda>(?:[0-9\\.e\\+]+)))?\",\n",
    "    r\"(\\-tnfcut=(?P<tnfcut>(?:[0-9]+)))?\",\n",
    "    r\"\\-om=(?P<omega>(?:[0-9\\.]+E[\\+\\-][0-9]+))\",\n",
    "    r\"\\-th=(?P<theta>(?:[0-9\\.E\\+]+))\",\n",
    "    r\"(\\-nx=(?P<nx>(?:[0-9]+)))?\",\n",
    "    r\"(\\-nphi=(?P<nphi>(?:[0-9]+)))?\",\n",
    "    r\"(\\-np12\\=np34\\=(?P<np12_np34>(?:[0-9\\+]+)))?\",\n",
    "    r\"(\\-np3\\=(?P<np3>(?:[0-9\\+]+)))?\",\n",
    "    r\"(\\-nq4\\=nq=(?P<nq4_nq>(?:[0-9\\+]+)))?\",\n",
    "    r\"\\-j12max=(?P<j12max>(?:[0-9]+))\",\n",
    "    r\"\\-lmax=(?P<lmax>(?:[0-9]+))\",\n",
    "    r\"\\-lsummax=(?P<lsummax>(?:[0-9]+))\",\n",
    "    r\"\\-tau4max=(?P<tau4max>(?:[0-9]+))\",\n",
    "    r\"\\-rho(1b)?\",\n",
    ")\n",
    "DTYPES = {\n",
    "    int: [\"j12max\", \"lmax\", \"lsummax\", \"tau4max\", \"cut\"],\n",
    "    float: [\"lambda\", \"omega\", \"theta\", \"c1\", \"c3\", \"c4\", \"ce\", \"cd\", \"cE1\", \"Lam\"],\n",
    "}\n",
    "PATTERN = re.compile(\"\".join(PATTERNS))"
   ]
  },
  {
   "cell_type": "code",
   "execution_count": null,
   "id": "threaded-receipt",
   "metadata": {},
   "outputs": [],
   "source": [
    "print(\"Debugging h5 density pattern\")\n",
    "dens = H5_DENSITIES[0]\n",
    "extension = \"h5\"\n",
    "print(dens)\n",
    "\n",
    "for n, pat in enumerate(PATTERNS):\n",
    "    pattern = re.compile(\"\".join(PATTERNS[:n]))\n",
    "    if pattern.search(dens) is None:\n",
    "        print(\"\".join(PATTERNS[:n]))\n",
    "        raise KeyError\n",
    "print(\"No issues\")\n",
    "\n",
    "print(\"Debugging dat density pattern\")\n",
    "dens = DAT_DENSITIES[0]\n",
    "extension = \"dat\"\n",
    "print(dens)\n",
    "\n",
    "for n, pat in enumerate(PATTERNS):\n",
    "    pattern = re.compile(\"\".join(PATTERNS[:n]))\n",
    "    if pattern.search(dens) is None:\n",
    "        print(\"\".join(PATTERNS[:n]))\n",
    "        raise KeyError\n",
    "print(\"No issues\")"
   ]
  },
  {
   "cell_type": "code",
   "execution_count": null,
   "id": "brief-solid",
   "metadata": {},
   "outputs": [],
   "source": [
    "def parse_file_names(directory, extension):\n",
    "    files = [f for f in os.listdir(directory) if f.endswith(f\".{extension}\")]\n",
    "    \n",
    "    pattern = re.compile(\"\".join(PATTERNS))\n",
    "    densities = pd.DataFrame([pattern.search(el).groupdict() for el in files])\n",
    "    for dtype, cols in DTYPES.items():\n",
    "        for col in cols:\n",
    "            densities[col] = densities[col].astype(dtype)\n",
    "\n",
    "    densities[\"qval\"] = densities[\"omega\"] / HBARC * 2\n",
    "    densities[\"file\"] = [os.path.join(DENSDIR, f) for f in files]\n",
    "    densities[\"owner\"] = \"Nogga\"\n",
    "    return (\n",
    "        densities.sort_values(\"omega\").reset_index(drop=True)\n",
    "        if not densities.empty\n",
    "        else densities\n",
    "    )"
   ]
  },
  {
   "cell_type": "code",
   "execution_count": null,
   "id": "tutorial-leisure",
   "metadata": {},
   "outputs": [],
   "source": [
    "h5_df = parse_file_names(DENSDIR, \"h5\")\n",
    "dat_df = parse_file_names(DENSDIR, \"dat\")"
   ]
  },
  {
   "cell_type": "markdown",
   "id": "irish-leave",
   "metadata": {},
   "source": [
    "Identify columns with not present entries"
   ]
  },
  {
   "cell_type": "code",
   "execution_count": null,
   "id": "special-cameroon",
   "metadata": {},
   "outputs": [],
   "source": [
    "h5_df.isna().any() | dat_df.isna().any()"
   ]
  },
  {
   "cell_type": "code",
   "execution_count": null,
   "id": "proprietary-samoa",
   "metadata": {},
   "outputs": [],
   "source": [
    "cutoff_map = dat_df.groupby(\"cut\")[\"Lam\"].mean().to_dict()\n",
    "cutoff_map"
   ]
  },
  {
   "cell_type": "markdown",
   "id": "ranging-bobby",
   "metadata": {},
   "source": [
    "apparently, the N4LO+ interactions are only uniqely qunatified when also including cd"
   ]
  },
  {
   "cell_type": "code",
   "execution_count": null,
   "id": "improved-weather",
   "metadata": {},
   "outputs": [],
   "source": [
    "counts_dat = dat_df.groupby([\"potential\", \"order\", \"cut\", \"empot\", \"qval\"])[\"file\"].count()\n",
    "counts_h5 = h5_df.groupby([\"potential\", \"order\", \"cut\", \"empot\", \"qval\"])[\"file\"].count()\n",
    "\n",
    "print(\"not filtering with cd\")\n",
    "print(counts_dat[counts_dat > 1].append(counts_h5[counts_h5 > 1]).reset_index()[\"order\"].unique())\n",
    "\n",
    "counts_dat = dat_df.groupby([\"potential\", \"order\", \"cut\", \"empot\", \"qval\", \"cd\"])[\"file\"].count()\n",
    "counts_h5 = h5_df.groupby([\"potential\", \"order\", \"cut\", \"empot\", \"qval\", \"cd\"])[\"file\"].count()\n",
    "\n",
    "print(\"filtering with cd\")\n",
    "print(counts_dat[counts_dat > 1].append(counts_h5[counts_h5 > 1]).reset_index()[\"order\"].unique())"
   ]
  },
  {
   "cell_type": "code",
   "execution_count": null,
   "id": "responsible-trading",
   "metadata": {},
   "outputs": [],
   "source": [
    "def map_interaction_kwargs(info):\n",
    "    interaction_id_kwargs = dict(\n",
    "        name=info[\"potential\"],\n",
    "        order=info[\"order\"].upper(),\n",
    "        regulator=str(cutoff_map[info[\"cut\"]]),\n",
    "        em_potential=info[\"empot\"] == \"pCoul\",\n",
    "        tag=\"cd={cd:0.2f}\".format(cd=info[\"cd\"]) # Adding tags to make interactions unique\n",
    "    )\n",
    "    interaction_update_kwargs = dict(\n",
    "        publication=None,  # needs update\n",
    "        misc={\n",
    "            key: info.get(key) \n",
    "            for key in [\"empot\", \"cut\", \"cmpi\", \"combine\", \"c1\", \"c3\", \"c4\", \"ce\", \"cE1\", \"cd\"]\n",
    "        },\n",
    "    )\n",
    "    return interaction_id_kwargs, interaction_update_kwargs\n",
    "\n",
    "def update_or_create_interaction(interaction_id_kwargs, interaction_update_kwargs, verbose=False):\n",
    "    interaction, created = ChiralInteraction.objects.get_or_create(\n",
    "        **interaction_id_kwargs\n",
    "    )\n",
    "    if created and verbose:\n",
    "        print(\"created DB entry for\", interaction)\n",
    "    for key, val in interaction_update_kwargs.items():\n",
    "        setattr(interaction, key, val)\n",
    "    interaction.save()\n",
    "    return interaction, created\n",
    "\n",
    "map_interaction_kwargs(dat_df.iloc[0])"
   ]
  },
  {
   "cell_type": "code",
   "execution_count": null,
   "id": "mysterious-catalyst",
   "metadata": {},
   "outputs": [],
   "source": [
    "def map_density_kwargs(interaction, file, info):\n",
    "    assert info[\"nuc\"] == \"4he\"\n",
    "    density_id_kwargs = dict(\n",
    "        nucleus=info[\"nuc\"],\n",
    "        n_nuc=4,\n",
    "        interaction=interaction,\n",
    "        qval=\"{0:8.5f}\".format(info[\"qval\"]),\n",
    "        thetaval=\"{0:5.2f}\".format(info[\"theta\"]),\n",
    "        file=file,\n",
    "    )\n",
    "    if isinstance(file, H5File):\n",
    "        dens = read_h5(file.path)\n",
    "        momentum_info={**dens.mesh_info, **dens.current_info}\n",
    "    elif isinstance(file, DatFile):\n",
    "        dens = read_1N_density(file.path)\n",
    "        momentum_info={key: dens[\"om_theta\"][n] for n, key in enumerate([\"omega\", \"thetaval\", \"qval\", \"thetaqval\"])}\n",
    "    else:\n",
    "        raise TypeError(file)\n",
    "\n",
    "    density_update_kwargs = dict(\n",
    "        momentum_info=momentum_info,\n",
    "        channel_info={\n",
    "            key: info.get(key) for key in [\"j12max\", \"lmax\", \"lsummax\", \"tau4max\"]\n",
    "        },\n",
    "        mesh_info={\n",
    "            key: info.get(key) for key in [\"nx\", \"nphi\", \"np3\", \"nq4_nq\", \"np12_np34\"]\n",
    "        },\n",
    "    )\n",
    "    return density_id_kwargs, density_update_kwargs\n",
    "\n",
    "# file = H5File.objects.first()\n",
    "#interaction = ChiralInteraction.objects.first()\n",
    "\n",
    "#map_density_kwargs(interaction, file, dat_df.iloc[0])"
   ]
  },
  {
   "cell_type": "code",
   "execution_count": null,
   "id": "forward-module",
   "metadata": {},
   "outputs": [],
   "source": [
    "def update_or_create_density(info, density_kind=Density2N, verbose=False):\n",
    "    interaction_id_kwargs, interaction_update_kwargs = map_interaction_kwargs(info)\n",
    "    try:\n",
    "        interaction, created = update_or_create_interaction(interaction_id_kwargs, interaction_update_kwargs, verbose=verbose)\n",
    "    except Exception as e:\n",
    "        print(\"update_or_create_interaction failed for:\")\n",
    "        print(interaction_id_kwargs)\n",
    "        print(interaction_update_kwargs)\n",
    "        raise(e)\n",
    "\n",
    "    file_kwargs = {\"path\": info[\"file\"], \"hostname\": HOSTNAME}\n",
    "    if info[\"file\"].endswith(\".h5\"):\n",
    "        FileClass = H5File\n",
    "    elif info[\"file\"].endswith(\".dat\"):\n",
    "        FileClass = DatFile\n",
    "    else:\n",
    "        raise TypeError(\"Do no know how to parse: \" + info[\"file\"])\n",
    "    file, created = FileClass.objects.get_or_create(**file_kwargs)\n",
    "    if created and verbose:\n",
    "        print(\"created DB entry for\", file)\n",
    "\n",
    "    density_id_kwargs, density_update_kwargs = map_density_kwargs(interaction, file, info)\n",
    "\n",
    "    if (density_kind is Density2N and not isinstance(file, H5File)) or (density_kind is Density1N and not isinstance(file, DatFile)):\n",
    "        raise TypeError(f\"Unexpected combination for file and denisty kind: {file}, {density_kind}\")\n",
    "\n",
    "    density, created = density_kind.objects.get_or_create(**density_id_kwargs)\n",
    "    if created and verbose:\n",
    "        print(\"created DB entry for\", density)\n",
    "\n",
    "    for key, val in density_update_kwargs.items():\n",
    "        setattr(density, key, val)\n",
    "    density.save()\n",
    "\n",
    "    return density, created"
   ]
  },
  {
   "cell_type": "raw",
   "id": "acknowledged-lewis",
   "metadata": {},
   "source": [
    "info = dat_df.iloc[0]\n",
    "update_or_create_density(info, density_kind=Density1N, verbose=True)"
   ]
  },
  {
   "cell_type": "raw",
   "id": "hungry-calculation",
   "metadata": {},
   "source": [
    "info = h5_df.iloc[0]\n",
    "update_or_create_density(info, density_kind=Density2N, verbose=True)"
   ]
  },
  {
   "cell_type": "code",
   "execution_count": null,
   "id": "compatible-thesaurus",
   "metadata": {},
   "outputs": [],
   "source": [
    "for idx, info in tqdm(list(dat_df.iterrows())):\n",
    "    update_or_create_density(info, density_kind=Density1N, verbose=False)"
   ]
  },
  {
   "cell_type": "code",
   "execution_count": null,
   "id": "attractive-spread",
   "metadata": {},
   "outputs": [],
   "source": [
    "for idx, info in tqdm(list(h5_df.iterrows())):\n",
    "    update_or_create_density(info, density_kind=Density2N, verbose=False)"
   ]
  },
  {
   "cell_type": "code",
   "execution_count": null,
   "id": "living-discount",
   "metadata": {},
   "outputs": [],
   "source": []
  }
 ],
 "metadata": {
  "kernelspec": {
   "display_name": "project-dm",
   "language": "python",
   "name": "project-dm"
  },
  "language_info": {
   "codemirror_mode": {
    "name": "ipython",
    "version": 3
   },
   "file_extension": ".py",
   "mimetype": "text/x-python",
   "name": "python",
   "nbconvert_exporter": "python",
   "pygments_lexer": "ipython3",
   "version": "3.8.5"
  }
 },
 "nbformat": 4,
 "nbformat_minor": 5
}
